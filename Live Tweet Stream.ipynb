{
 "cells": [
  {
   "cell_type": "code",
   "execution_count": null,
   "metadata": {
    "collapsed": true
   },
   "outputs": [],
   "source": [
    "import tweepy\n",
    "import csv\n",
    "from time import gmtime, strftime\n",
    "import random\n",
    "import nltk\n",
    "from nltk.sentiment import SentimentAnalyzer\n",
    "from nltk.sentiment.util import *"
   ]
  },
  {
   "cell_type": "code",
   "execution_count": null,
   "metadata": {
    "collapsed": true
   },
   "outputs": [],
   "source": [
    "#Twitter API credentials\n",
    "consumer_key = \"Insert your consumer key\"\n",
    "consumer_secret = \"Insert your consumer secret\"\n",
    "access_key = \"Insert your access key\"\n",
    "access_secret = \"Insert your access secret\""
   ]
  },
  {
   "cell_type": "code",
   "execution_count": null,
   "metadata": {
    "collapsed": true
   },
   "outputs": [],
   "source": [
    "# Initiate the groups/keywords that you want the streamer to search for\n",
    "#The code is written in such a way that you only need to change the value of these\n",
    "#   variables when you are changing the keywords\n",
    "group1 = 'Saints'\n",
    "group2 = 'Falcons'\n",
    "\n",
    "# All tweets will search for a lower-case match, so I ensure that each group is lower-case upon initiated them\n",
    "group1 = group1.lower()\n",
    "group2 = group2.lower()"
   ]
  },
  {
   "cell_type": "code",
   "execution_count": null,
   "metadata": {
    "collapsed": true
   },
   "outputs": [],
   "source": [
    "#Authorize Twitter/Initialize Tweepy\n",
    "auth = tweepy.OAuthHandler(consumer_key, consumer_secret)\n",
    "auth.set_access_token(access_key, access_secret)\n",
    "api = tweepy.API(auth)"
   ]
  },
  {
   "cell_type": "code",
   "execution_count": null,
   "metadata": {
    "collapsed": true
   },
   "outputs": [],
   "source": [
    "# Initiate lists and running total used for sentiment\n",
    "group1Scores = []\n",
    "group1TotalScore = 0\n",
    "group2Scores = []\n",
    "group2TotalScore = 0\n",
    "\n",
    "\n",
    "class MyStreamListener(tweepy.StreamListener):\n",
    "    \n",
    "    def on_status(self, status):\n",
    "        # Create Dictionary and bring in the lists as global variables\n",
    "        sentiment_scores = {}\n",
    "        global group1Scores\n",
    "        global group1TotalScore\n",
    "        global group2Scores\n",
    "        global group2TotalScore\n",
    "        print(status)\n",
    "        # Open the file `tidytext_sentiments.txt`\n",
    "        with open('/Users/Kelly/Documents/BMIS694/Live Tweet Sentiment/tidytext_sentiments.txt') as f:\n",
    "            next(f)             \n",
    "            for line in f:\n",
    "                (word,sentiment,lexicon) = line.split('\\t')\n",
    "                if sentiment == \"negative\":\n",
    "                    sentiment_scores[word] = -1\n",
    "                if sentiment == \"positive\":\n",
    "                    sentiment_scores[word] = 1\n",
    "        try:\n",
    "            # Assign tweets to variable and clean up tweets \n",
    "            tweet = status.text\n",
    "            tweet = tweet.lower()\n",
    "            tweet = tweet.replace('\\n', ' ')\n",
    "            tweet = tweet.replace('\\t', ' ')\n",
    "            \n",
    "            # If both groups are mentioned in the tweet, then skip, because they will cancel each other out\n",
    "            if (group1 in tweet) and (group2 in tweet): #or ('rt ' in tweet):\n",
    "                #print(\"****\"+tweet+\"****\")\n",
    "                next\n",
    "            \n",
    "            # Loop for tweets that contain the group1 variable somewhere in the tweet\n",
    "            elif group1 in tweet:\n",
    "                #print(group1 + '\\t' + tweet +'\\n')         #Uncomment this out to ensure tweets are streaming as expected\n",
    "                tweet = tweet.split()           # Split the tweets into individual word\n",
    "                group1TweetScores = []          # Create an empty list for the sentiment scores of each individual tweet\n",
    "                for word in tweet:\n",
    "\n",
    "                    if word in sentiment_scores:\n",
    "                        group1TotalScore = (sentiment_scores[word] + group1TotalScore)\n",
    "                        group1TweetScores.extend([group1TotalScore]) \n",
    "\n",
    "    #                     if sentiment_scores[word] == -1:\n",
    "    #                         print(word +' - negative')\n",
    "    #                     if sentiment_scores[word] == 1:\n",
    "    #                         print(word +' - positive')\n",
    "                        group1Scores= []\n",
    "                        group1Scores = [group1TotalScore]\n",
    "                    else:\n",
    "                        group1TweetScores.extend([group1TotalScore])\n",
    "                        group1Scores= []\n",
    "                        group1Scores = [group1TotalScore]\n",
    "                with open('/Users/Kelly/Documents/BMIS694/Live Tweet Sentiment/Sentiment Files/'+group1 + group2 +'Sentiment.txt', 'a') as f:\n",
    "                    for idx, score in enumerate(group1TweetScores):\n",
    "                        f.write(strftime(group1 + '\\t' +\"%H:%M\") + '\\t' + str(score) + '\\n')\n",
    "                    f.close()\n",
    "                \n",
    "            elif group2 in tweet:\n",
    "                #print(group2 + \"\\t\" + tweet + '\\n')\n",
    "                tweet = tweet.split()\n",
    "                group2TweetScores = []\n",
    "                for word in tweet:\n",
    "\n",
    "                    if word in sentiment_scores:\n",
    "                        group2TotalScore = (sentiment_scores[word] + group2TotalScore)\n",
    "                        group2TweetScores.extend([group2TotalScore]) \n",
    "\n",
    "    #                     if sentiment_scores[word] == -1:\n",
    "    #                         print(word +' - negative')\n",
    "    #                     if sentiment_scores[word] == 1:\n",
    "    #                         print(word +' - positive')\n",
    "                        group2Scores= []\n",
    "                        group2Scores = [group2TotalScore]\n",
    "                    else:\n",
    "                        group2TweetScores.extend([group2TotalScore])\n",
    "                        group2Scores= []\n",
    "                        group2Scores = [group2TotalScore]\n",
    "                with open('/Users/Kelly/Documents/BMIS694/Live Tweet Sentiment/Sentiment Files/'+ group1 + group2 +'Sentiment.txt', 'a') as f:\n",
    "                    for idx, score in enumerate(group2TweetScores):\n",
    "                        f.write(strftime(group2 + '\\t' + \"%H:%M\") + '\\t' + str(score) + '\\n')\n",
    "                        \n",
    "                    f.close()\n",
    "                \n",
    "            else:\n",
    "                next\n",
    "            return True\n",
    "        except BaseException as e:\n",
    "            print('****************************failed on_status,',str(e)+'****************************')\n",
    "            time.sleep(5)"
   ]
  },
  {
   "cell_type": "code",
   "execution_count": null,
   "metadata": {
    "collapsed": true
   },
   "outputs": [],
   "source": [
    "myStreamListener = MyStreamListener()\n",
    "myStream = tweepy.Stream(auth = api.auth, listener=myStreamListener, wait_on_rate_limit = True)"
   ]
  },
  {
   "cell_type": "code",
   "execution_count": null,
   "metadata": {},
   "outputs": [],
   "source": [
    "myStream.filter(track=[group1, group2])"
   ]
  },
  {
   "cell_type": "code",
   "execution_count": null,
   "metadata": {
    "collapsed": true
   },
   "outputs": [],
   "source": []
  }
 ],
 "metadata": {
  "kernelspec": {
   "display_name": "Python 3",
   "language": "python",
   "name": "python3"
  },
  "language_info": {
   "codemirror_mode": {
    "name": "ipython",
    "version": 3
   },
   "file_extension": ".py",
   "mimetype": "text/x-python",
   "name": "python",
   "nbconvert_exporter": "python",
   "pygments_lexer": "ipython3",
   "version": "3.6.1"
  }
 },
 "nbformat": 4,
 "nbformat_minor": 2
}
